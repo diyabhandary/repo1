{
  "nbformat": 4,
  "nbformat_minor": 0,
  "metadata": {
    "colab": {
      "provenance": [],
      "authorship_tag": "ABX9TyNo+Sol31PgNoMaNyuTBGPN",
      "include_colab_link": true
    },
    "kernelspec": {
      "name": "python3",
      "display_name": "Python 3"
    },
    "language_info": {
      "name": "python"
    }
  },
  "cells": [
    {
      "cell_type": "markdown",
      "metadata": {
        "id": "view-in-github",
        "colab_type": "text"
      },
      "source": [
        "<a href=\"https://colab.research.google.com/github/diyabhandary/repo1/blob/main/customer_churn_prediction.ipynb\" target=\"_parent\"><img src=\"https://colab.research.google.com/assets/colab-badge.svg\" alt=\"Open In Colab\"/></a>"
      ]
    },
    {
      "cell_type": "code",
      "execution_count": 6,
      "metadata": {
        "colab": {
          "base_uri": "https://localhost:8080/"
        },
        "id": "1fPop_CL3sE8",
        "outputId": "0b8a8310-257e-4c0f-86f1-326e6aa810b6"
      },
      "outputs": [
        {
          "output_type": "stream",
          "name": "stdout",
          "text": [
            "Accuracy: 1.0\n",
            "              precision    recall  f1-score   support\n",
            "\n",
            "           0       1.00      1.00      1.00       270\n",
            "\n",
            "    accuracy                           1.00       270\n",
            "   macro avg       1.00      1.00      1.00       270\n",
            "weighted avg       1.00      1.00      1.00       270\n",
            "\n"
          ]
        }
      ],
      "source": [
        "# Customer Churn Prediction\n",
        "import pandas as pd\n",
        "from sklearn.model_selection import train_test_split\n",
        "from sklearn.ensemble import RandomForestClassifier\n",
        "from sklearn.metrics import accuracy_score, classification_report\n",
        "\n",
        "# Load data\n",
        "data = pd.read_csv('customer_churn.csv')\n",
        "\n",
        "# Preprocessing\n",
        "data = data.dropna()\n",
        "X = data.drop(columns=[col for col in ['customerID', 'Churn'] if col in data.columns])\n",
        "X = pd.get_dummies(X)\n",
        "y = data['Churn'].apply(lambda x: 1 if x == 'Yes' else 0)\n",
        "\n",
        "# Split data\n",
        "X_train, X_test, y_train, y_test = train_test_split(X, y, test_size=0.3, random_state=42)\n",
        "\n",
        "# Train model\n",
        "model = RandomForestClassifier(n_estimators=100, random_state=42)\n",
        "model.fit(X_train, y_train)\n",
        "\n",
        "# Predict and evaluate\n",
        "y_pred = model.predict(X_test)\n",
        "print(\"Accuracy:\", accuracy_score(y_test, y_pred))\n",
        "print(classification_report(y_test, y_pred))\n"
      ]
    },
    {
      "cell_type": "code",
      "source": [],
      "metadata": {
        "id": "2F6LtBL83-CK"
      },
      "execution_count": null,
      "outputs": []
    }
  ]
}