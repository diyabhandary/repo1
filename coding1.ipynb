{
  "nbformat": 4,
  "nbformat_minor": 0,
  "metadata": {
    "colab": {
      "provenance": [],
      "authorship_tag": "ABX9TyMfNROyud318+oD7vEngU2p",
      "include_colab_link": true
    },
    "kernelspec": {
      "name": "python3",
      "display_name": "Python 3"
    },
    "language_info": {
      "name": "python"
    }
  },
  "cells": [
    {
      "cell_type": "markdown",
      "metadata": {
        "id": "view-in-github",
        "colab_type": "text"
      },
      "source": [
        "<a href=\"https://colab.research.google.com/github/diyabhandary/repo1/blob/main/coding1.ipynb\" target=\"_parent\"><img src=\"https://colab.research.google.com/assets/colab-badge.svg\" alt=\"Open In Colab\"/></a>"
      ]
    },
    {
      "cell_type": "code",
      "execution_count": 1,
      "metadata": {
        "id": "CLOGgh9NYSXn"
      },
      "outputs": [],
      "source": [
        "medical_charges_url = 'https://raw.githubusercontent.com/JovianML/opendatas'"
      ]
    },
    {
      "cell_type": "code",
      "source": [],
      "metadata": {
        "id": "2UOLzHmybziK"
      },
      "execution_count": null,
      "outputs": []
    }
  ]
}